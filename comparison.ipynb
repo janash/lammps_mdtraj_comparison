{
 "cells": [
  {
   "cell_type": "markdown",
   "metadata": {},
   "source": [
    "# MDTraj LAMMPS Trajectory Reader/Writer Array Comparisons"
   ]
  },
  {
   "cell_type": "code",
   "execution_count": 1,
   "metadata": {},
   "outputs": [],
   "source": [
    "import pickle\n",
    "\n",
    "np1_original_arrays = pickle.load(open(\"arrays/np1_original.pkl\", \"rb\"))\n",
    "np1_written_arrays = pickle.load(open(\"arrays/np1_written.pkl\", \"rb\"))    \n",
    "\n",
    "np2_original_arrays = pickle.load(open(\"arrays/np2_original.pkl\", \"rb\"))\n",
    "np2_written_arrays = pickle.load(open(\"arrays/np2_written.pkl\", \"rb\"))\n",
    "\n",
    "np2_np64_original_arrays = pickle.load(open(\"arrays/np2_np64_original.pkl\", \"rb\"))\n",
    "np2_np64_written_arrays = pickle.load(open(\"arrays/np2_np64_written.pkl\", \"rb\"))"
   ]
  },
  {
   "cell_type": "code",
   "execution_count": 2,
   "metadata": {},
   "outputs": [],
   "source": [
    "from compare import compare_array_differences"
   ]
  },
  {
   "cell_type": "code",
   "execution_count": 3,
   "metadata": {},
   "outputs": [
    {
     "name": "stdout",
     "output_type": "stream",
     "text": [
      "np1 (NumPy 1.0) - Max difference for tuple 1: 0.0005000007133606488\n",
      "np1 (NumPy 1.0) - Max difference for tuple 2: 6.661338147750939e-16\n",
      "np1 (NumPy 1.0) - Max difference for tuple 3: 9.805755212255463e-07\n",
      "np2 (NumPy 2.0) - Max difference for tuple 1: 0.0005000007133606488\n",
      "np2 (NumPy 2.0) - Max difference for tuple 2: 5.307949098032338e-07\n",
      "np2 (NumPy 2.0) - Max difference for tuple 3: 3.1392858353740394e-05\n",
      "np2_np64 (NumPy 2.0 with np64) - Max difference for tuple 1: 0.000499999286638797\n",
      "np2_np64 (NumPy 2.0 with np64) - Max difference for tuple 2: 9.992007221626409e-16\n",
      "np2_np64 (NumPy 2.0 with np64) - Max difference for tuple 3: 5.684341886080802e-14\n"
     ]
    }
   ],
   "source": [
    "# Compare np1 (NumPy 1.0)\n",
    "d1, max1 = compare_array_differences(np1_original_arrays, np1_written_arrays, label=\"np1 (NumPy 1.0)\")\n",
    "\n",
    "# Compare np2 (NumPy 2.0)\n",
    "d2, max2 = compare_array_differences(np2_original_arrays, np2_written_arrays, label=\"np2 (NumPy 2.0)\")\n",
    "\n",
    "# Compare np2_np64 (NumPy 2.0 with np64)\n",
    "d3, max3 = compare_array_differences(np2_np64_original_arrays, np2_np64_written_arrays, label=\"np2_np64 (NumPy 2.0 with np64)\")\n"
   ]
  },
  {
   "cell_type": "code",
   "execution_count": 5,
   "metadata": {},
   "outputs": [
    {
     "data": {
      "text/plain": [
       "True"
      ]
     },
     "execution_count": 5,
     "metadata": {},
     "output_type": "execute_result"
    }
   ],
   "source": [
    "import numpy as np\n",
    "\n",
    "# The original arrays are pretty much always equal\n",
    "np.allclose(np1_original_arrays[0], np2_original_arrays[0])\n",
    "np.allclose(np1_original_arrays[1], np2_original_arrays[1])\n",
    "np.allclose(np1_original_arrays[2], np2_original_arrays[2])"
   ]
  },
  {
   "cell_type": "code",
   "execution_count": null,
   "metadata": {},
   "outputs": [],
   "source": []
  }
 ],
 "metadata": {
  "kernelspec": {
   "display_name": "biochemist-python",
   "language": "python",
   "name": "python3"
  },
  "language_info": {
   "codemirror_mode": {
    "name": "ipython",
    "version": 3
   },
   "file_extension": ".py",
   "mimetype": "text/x-python",
   "name": "python",
   "nbconvert_exporter": "python",
   "pygments_lexer": "ipython3",
   "version": "3.11.9"
  }
 },
 "nbformat": 4,
 "nbformat_minor": 2
}
